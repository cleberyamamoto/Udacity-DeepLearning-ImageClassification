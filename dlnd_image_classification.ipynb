{
 "cells": [
  {
   "cell_type": "markdown",
   "metadata": {
    "collapsed": true
   },
   "source": [
    "# Image Classification\n",
    "In this project, you'll classify images from the [CIFAR-10 dataset](https://www.cs.toronto.edu/~kriz/cifar.html).  The dataset consists of airplanes, dogs, cats, and other objects. You'll preprocess the images, then train a convolutional neural network on all the samples. The images need to be normalized and the labels need to be one-hot encoded.  You'll get to apply what you learned and build a convolutional, max pooling, dropout, and fully connected layers.  At the end, you'll get to see your neural network's predictions on the sample images.\n",
    "## Get the Data\n",
    "Run the following cell to download the [CIFAR-10 dataset for python](https://www.cs.toronto.edu/~kriz/cifar-10-python.tar.gz)."
   ]
  },
  {
   "cell_type": "code",
   "execution_count": 1,
   "metadata": {},
   "outputs": [
    {
     "name": "stdout",
     "output_type": "stream",
     "text": [
      "All files found!\n"
     ]
    }
   ],
   "source": [
    "\"\"\"\n",
    "DON'T MODIFY ANYTHING IN THIS CELL THAT IS BELOW THIS LINE\n",
    "\"\"\"\n",
    "from urllib.request import urlretrieve\n",
    "from os.path import isfile, isdir\n",
    "from tqdm import tqdm\n",
    "import problem_unittests as tests\n",
    "import tarfile\n",
    "\n",
    "cifar10_dataset_folder_path = 'cifar-10-batches-py'\n",
    "\n",
    "# Use Floyd's cifar-10 dataset if present\n",
    "floyd_cifar10_location = '/input/cifar-10/python.tar.gz'\n",
    "if isfile(floyd_cifar10_location):\n",
    "    tar_gz_path = floyd_cifar10_location\n",
    "else:\n",
    "    tar_gz_path = 'cifar-10-python.tar.gz'\n",
    "\n",
    "class DLProgress(tqdm):\n",
    "    last_block = 0\n",
    "\n",
    "    def hook(self, block_num=1, block_size=1, total_size=None):\n",
    "        self.total = total_size\n",
    "        self.update((block_num - self.last_block) * block_size)\n",
    "        self.last_block = block_num\n",
    "\n",
    "if not isfile(tar_gz_path):\n",
    "    with DLProgress(unit='B', unit_scale=True, miniters=1, desc='CIFAR-10 Dataset') as pbar:\n",
    "        urlretrieve(\n",
    "            'https://www.cs.toronto.edu/~kriz/cifar-10-python.tar.gz',\n",
    "            tar_gz_path,\n",
    "            pbar.hook)\n",
    "\n",
    "if not isdir(cifar10_dataset_folder_path):\n",
    "    with tarfile.open(tar_gz_path) as tar:\n",
    "        tar.extractall()\n",
    "        tar.close()\n",
    "\n",
    "\n",
    "tests.test_folder_path(cifar10_dataset_folder_path)"
   ]
  },
  {
   "cell_type": "markdown",
   "metadata": {},
   "source": [
    "## Explore the Data\n",
    "The dataset is broken into batches to prevent your machine from running out of memory.  The CIFAR-10 dataset consists of 5 batches, named `data_batch_1`, `data_batch_2`, etc.. Each batch contains the labels and images that are one of the following:\n",
    "* airplane\n",
    "* automobile\n",
    "* bird\n",
    "* cat\n",
    "* deer\n",
    "* dog\n",
    "* frog\n",
    "* horse\n",
    "* ship\n",
    "* truck\n",
    "\n",
    "Understanding a dataset is part of making predictions on the data.  Play around with the code cell below by changing the `batch_id` and `sample_id`. The `batch_id` is the id for a batch (1-5). The `sample_id` is the id for a image and label pair in the batch.\n",
    "\n",
    "Ask yourself \"What are all possible labels?\", \"What is the range of values for the image data?\", \"Are the labels in order or random?\".  Answers to questions like these will help you preprocess the data and end up with better predictions."
   ]
  },
  {
   "cell_type": "code",
   "execution_count": 2,
   "metadata": {},
   "outputs": [
    {
     "name": "stdout",
     "output_type": "stream",
     "text": [
      "\n",
      "Stats of batch 1:\n",
      "Samples: 10000\n",
      "Label Counts: {0: 1005, 1: 974, 2: 1032, 3: 1016, 4: 999, 5: 937, 6: 1030, 7: 1001, 8: 1025, 9: 981}\n",
      "First 20 Labels: [6, 9, 9, 4, 1, 1, 2, 7, 8, 3, 4, 7, 7, 2, 9, 9, 9, 3, 2, 6]\n",
      "\n",
      "Example of Image 5:\n",
      "Image - Min Value: 0 Max Value: 252\n",
      "Image - Shape: (32, 32, 3)\n",
      "Label - Label Id: 1 Name: automobile\n",
      "\n",
      "Stats of batch 2:\n",
      "Samples: 10000\n",
      "Label Counts: {0: 984, 1: 1007, 2: 1010, 3: 995, 4: 1010, 5: 988, 6: 1008, 7: 1026, 8: 987, 9: 985}\n",
      "First 20 Labels: [1, 6, 6, 8, 8, 3, 4, 6, 0, 6, 0, 3, 6, 6, 5, 4, 8, 3, 2, 6]\n",
      "\n",
      "Example of Image 7:\n",
      "Image - Min Value: 4 Max Value: 226\n",
      "Image - Shape: (32, 32, 3)\n",
      "Label - Label Id: 6 Name: frog\n",
      "\n",
      "Stats of batch 3:\n",
      "Samples: 10000\n",
      "Label Counts: {0: 994, 1: 1042, 2: 965, 3: 997, 4: 990, 5: 1029, 6: 978, 7: 1015, 8: 961, 9: 1029}\n",
      "First 20 Labels: [8, 5, 0, 6, 9, 2, 8, 3, 6, 2, 7, 4, 6, 9, 0, 0, 7, 3, 7, 2]\n",
      "\n",
      "Example of Image 3:\n",
      "Image - Min Value: 40 Max Value: 255\n",
      "Image - Shape: (32, 32, 3)\n",
      "Label - Label Id: 6 Name: frog\n",
      "\n",
      "Stats of batch 4:\n",
      "Samples: 10000\n",
      "Label Counts: {0: 1003, 1: 963, 2: 1041, 3: 976, 4: 1004, 5: 1021, 6: 1004, 7: 981, 8: 1024, 9: 983}\n",
      "First 20 Labels: [0, 6, 0, 2, 7, 2, 1, 2, 4, 1, 5, 6, 6, 3, 1, 3, 5, 5, 8, 1]\n",
      "\n",
      "Example of Image 25:\n",
      "Image - Min Value: 13 Max Value: 212\n",
      "Image - Shape: (32, 32, 3)\n",
      "Label - Label Id: 2 Name: bird\n",
      "\n",
      "Stats of batch 5:\n",
      "Samples: 10000\n",
      "Label Counts: {0: 1014, 1: 1014, 2: 952, 3: 1016, 4: 997, 5: 1025, 6: 980, 7: 977, 8: 1003, 9: 1022}\n",
      "First 20 Labels: [1, 8, 5, 1, 5, 7, 4, 3, 8, 2, 7, 2, 0, 1, 5, 9, 6, 2, 0, 8]\n",
      "\n",
      "Example of Image 51:\n",
      "Image - Min Value: 9 Max Value: 253\n",
      "Image - Shape: (32, 32, 3)\n",
      "Label - Label Id: 5 Name: dog\n"
     ]
    },
    {
     "data": {
      "image/png": "[encoded data removed]",
      "text/plain": [
       "<matplotlib.figure.Figure at 0x25e83815dd8>"
      ]
     },
     "metadata": {
      "image/png": {
       "height": 250,
       "width": 253
      }
     },
     "output_type": "display_data"
    }
   ],
   "source": [
    "%matplotlib inline\n",
    "%config InlineBackend.figure_format = 'retina'\n",
    "\n",
    "import helper\n",
    "import numpy as np\n",
    "\n",
    "# Explore the dataset\n",
    "batch_id = 1\n",
    "sample_id = 5\n",
    "helper.display_stats(cifar10_dataset_folder_path, batch_id, sample_id)\n",
    "\n",
    "batch_id = 2\n",
    "sample_id = 7\n",
    "helper.display_stats(cifar10_dataset_folder_path, batch_id, sample_id)\n",
    "\n",
    "batch_id = 3\n",
    "sample_id = 3\n",
    "helper.display_stats(cifar10_dataset_folder_path, batch_id, sample_id)\n",
    "\n",
    "batch_id = 4\n",
    "sample_id = 25\n",
    "helper.display_stats(cifar10_dataset_folder_path, batch_id, sample_id)\n",
    "\n",
    "batch_id = 5\n",
    "sample_id = 51\n",
    "helper.display_stats(cifar10_dataset_folder_path, batch_id, sample_id)"
   ]
  },
  {
   "cell_type": "markdown",
   "metadata": {},
   "source": [
    "## Implement Preprocess Functions\n",
    "### Normalize\n",
    "In the cell below, implement the `normalize` function to take in image data, `x`, and return it as a normalized Numpy array. The values should be in the range of 0 to 1, inclusive.  The return object should be the same shape as `x`."
   ]
  },
  {
   "cell_type": "code",
   "execution_count": 3,
   "metadata": {},
   "outputs": [
    {
     "name": "stdout",
     "output_type": "stream",
     "text": [
      "Tests Passed\n"
     ]
    }
   ],
   "source": [
    "def normalize(x):\n",
    "    \"\"\"\n",
    "    Normalize a list of sample image data in the range of 0 to 1\n",
    "    : x: List of image data.  The image shape is (32, 32, 3)\n",
    "    : return: Numpy array of normalize data\n",
    "    \"\"\"\n",
    "    # TODO: Implement Function\n",
    "    # return None\n",
    "    #\n",
    "    # the possible values for each color (RGB) are 0 to 255\n",
    "    # normalized value is x/255\n",
    "    #\n",
    "    return x/255\n",
    "\n",
    "\n",
    "\"\"\"\n",
    "DON'T MODIFY ANYTHING IN THIS CELL THAT IS BELOW THIS LINE\n",
    "\"\"\"\n",
    "tests.test_normalize(normalize)"
   ]
  },
  {
   "cell_type": "markdown",
   "metadata": {},
   "source": [
    "### One-hot encode\n",
    "Just like the previous code cell, you'll be implementing a function for preprocessing.  This time, you'll implement the `one_hot_encode` function. The input, `x`, are a list of labels.  Implement the function to return the list of labels as One-Hot encoded Numpy array.  The possible values for labels are 0 to 9. The one-hot encoding function should return the same encoding for each value between each call to `one_hot_encode`.  Make sure to save the map of encodings outside the function.\n",
    "\n",
    "Hint: Don't reinvent the wheel."
   ]
  },
  {
   "cell_type": "code",
   "execution_count": 13,
   "metadata": {},
   "outputs": [
    {
     "name": "stdout",
     "output_type": "stream",
     "text": [
      "Tests Passed\n"
     ]
    }
   ],
   "source": [
    "def one_hot_encode(x):\n",
    "    \"\"\"\n",
    "    One hot encode a list of sample labels. Return a one-hot encoded vector for each label.\n",
    "    : x: List of sample Labels\n",
    "    : return: Numpy array of one-hot encoded labels\n",
    "    \"\"\"\n",
    "    # TODO: Implement Function\n",
    "    # return None\n",
    "    #\n",
    "    # print(x)\n",
    "    # print(np.eye(10)[x])\n",
    "    #\n",
    "    # The possible values for labels are 0 to 9 = 10 possibilities\n",
    "    # return array 10 x len(x)\n",
    "    #\n",
    "    return np.eye(10)[x]\n",
    "\n",
    "\n",
    "\"\"\"\n",
    "DON'T MODIFY ANYTHING IN THIS CELL THAT IS BELOW THIS LINE\n",
    "\"\"\"\n",
    "tests.test_one_hot_encode(one_hot_encode)"
   ]
  },
  {
   "cell_type": "markdown",
   "metadata": {},
   "source": [
    "### Randomize Data\n",
    "As you saw from exploring the data above, the order of the samples are randomized.  It doesn't hurt to randomize it again, but you don't need to for this dataset."
   ]
  },
  {
   "cell_type": "markdown",
   "metadata": {},
   "source": [
    "## Preprocess all the data and save it\n",
    "Running the code cell below will preprocess all the CIFAR-10 data and save it to file. The code below also uses 10% of the training data for validation."
   ]
  },
  {
   "cell_type": "code",
   "execution_count": 15,
   "metadata": {
    "collapsed": true
   },
   "outputs": [],
   "source": [
    "\"\"\"\n",
    "DON'T MODIFY ANYTHING IN THIS CELL\n",
    "\"\"\"\n",
    "# Preprocess Training, Validation, and Testing Data\n",
    "helper.preprocess_and_save_data(cifar10_dataset_folder_path, normalize, one_hot_encode)"
   ]
  },
  {
   "cell_type": "markdown",
   "metadata": {},
   "source": [
    "# Check Point\n",
    "This is your first checkpoint.  If you ever decide to come back to this notebook or have to restart the notebook, you can start from here.  The preprocessed data has been saved to disk."
   ]
  },
  {
   "cell_type": "code",
   "execution_count": 58,
   "metadata": {
    "collapsed": true
   },
   "outputs": [],
   "source": [
    "\"\"\"\n",
    "DON'T MODIFY ANYTHING IN THIS CELL\n",
    "\"\"\"\n",
    "import pickle\n",
    "import problem_unittests as tests\n",
    "import helper\n",
    "\n",
    "# Load the Preprocessed Validation data\n",
    "valid_features, valid_labels = pickle.load(open('preprocess_validation.p', mode='rb'))"
   ]
  },
  {
   "cell_type": "markdown",
   "metadata": {},
   "source": [
    "## Build the network\n",
    "For the neural network, you'll build each layer into a function.  Most of the code you've seen has been outside of functions. To test your code more thoroughly, we require that you put each layer in a function.  This allows us to give you better feedback and test for simple mistakes using our unittests before you submit your project.\n",
    "\n",
    ">**Note:** If you're finding it hard to dedicate enough time for this course each week, we've provided a small shortcut to this part of the project. In the next couple of problems, you'll have the option to use classes from the [TensorFlow Layers](https://www.tensorflow.org/api_docs/python/tf/layers) or [TensorFlow Layers (contrib)](https://www.tensorflow.org/api_guides/python/contrib.layers) packages to build each layer, except the layers you build in the \"Convolutional and Max Pooling Layer\" section.  TF Layers is similar to Keras's and TFLearn's abstraction to layers, so it's easy to pickup.\n",
    "\n",
    ">However, if you would like to get the most out of this course, try to solve all the problems _without_ using anything from the TF Layers packages. You **can** still use classes from other packages that happen to have the same name as ones you find in TF Layers! For example, instead of using the TF Layers version of the `conv2d` class, [tf.layers.conv2d](https://www.tensorflow.org/api_docs/python/tf/layers/conv2d), you would want to use the TF Neural Network version of `conv2d`, [tf.nn.conv2d](https://www.tensorflow.org/api_docs/python/tf/nn/conv2d). \n",
    "\n",
    "Let's begin!\n",
    "\n",
    "### Input\n",
    "The neural network needs to read the image data, one-hot encoded labels, and dropout keep probability. Implement the following functions\n",
    "* Implement `neural_net_image_input`\n",
    " * Return a [TF Placeholder](https://www.tensorflow.org/api_docs/python/tf/placeholder)\n",
    " * Set the shape using `image_shape` with batch size set to `None`.\n",
    " * Name the TensorFlow placeholder \"x\" using the TensorFlow `name` parameter in the [TF Placeholder](https://www.tensorflow.org/api_docs/python/tf/placeholder).\n",
    "* Implement `neural_net_label_input`\n",
    " * Return a [TF Placeholder](https://www.tensorflow.org/api_docs/python/tf/placeholder)\n",
    " * Set the shape using `n_classes` with batch size set to `None`.\n",
    " * Name the TensorFlow placeholder \"y\" using the TensorFlow `name` parameter in the [TF Placeholder](https://www.tensorflow.org/api_docs/python/tf/placeholder).\n",
    "* Implement `neural_net_keep_prob_input`\n",
    " * Return a [TF Placeholder](https://www.tensorflow.org/api_docs/python/tf/placeholder) for dropout keep probability.\n",
    " * Name the TensorFlow placeholder \"keep_prob\" using the TensorFlow `name` parameter in the [TF Placeholder](https://www.tensorflow.org/api_docs/python/tf/placeholder).\n",
    "\n",
    "These names will be used at the end of the project to load your saved model.\n",
    "\n",
    "Note: `None` for shapes in TensorFlow allow for a dynamic size."
   ]
  },
  {
   "cell_type": "code",
   "execution_count": 59,
   "metadata": {},
   "outputs": [
    {
     "name": "stdout",
     "output_type": "stream",
     "text": [
      "Image Input Tests Passed.\n",
      "Label Input Tests Passed.\n",
      "Keep Prob Tests Passed.\n"
     ]
    }
   ],
   "source": [
    "import tensorflow as tf\n",
    "\n",
    "def neural_net_image_input(image_shape):\n",
    "    \"\"\"\n",
    "    Return a Tensor for a batch of image input\n",
    "    : image_shape: Shape of the images\n",
    "    : return: Tensor for image input.\n",
    "    \"\"\"\n",
    "    # TODO: Implement Function\n",
    "    # return None\n",
    "    return tf.placeholder(tf.float32, [None]+list(image_shape), \"x\")\n",
    "\n",
    "\n",
    "def neural_net_label_input(n_classes):\n",
    "    \"\"\"\n",
    "    Return a Tensor for a batch of label input\n",
    "    : n_classes: Number of classes\n",
    "    : return: Tensor for label input.\n",
    "    \"\"\"\n",
    "    # TODO: Implement Function\n",
    "    # return None\n",
    "    return tf.placeholder(tf.float32, [None,n_classes], \"y\")\n",
    "\n",
    "\n",
    "def neural_net_keep_prob_input():\n",
    "    \"\"\"\n",
    "    Return a Tensor for keep probability\n",
    "    : return: Tensor for keep probability.\n",
    "    \"\"\"\n",
    "    # TODO: Implement Function\n",
    "    # return None\n",
    "    return tf.placeholder(tf.float32, None, \"keep_prob\")\n",
    "\n",
    "\n",
    "\"\"\"\n",
    "DON'T MODIFY ANYTHING IN THIS CELL THAT IS BELOW THIS LINE\n",
    "\"\"\"\n",
    "tf.reset_default_graph()\n",
    "tests.test_nn_image_inputs(neural_net_image_input)\n",
    "tests.test_nn_label_inputs(neural_net_label_input)\n",
    "tests.test_nn_keep_prob_inputs(neural_net_keep_prob_input)"
   ]
  },
  {
   "cell_type": "markdown",
   "metadata": {},
   "source": [
    "# Convolution and Max Pooling Layer\n",
    "Convolution layers have a lot of success with images. For this code cell, you should implement the function `conv2d_maxpool` to apply convolution then max pooling:\n",
    "* Create the weight and bias using `conv_ksize`, `conv_num_outputs` and the shape of `x_tensor`.\n",
    "* Apply a convolution to `x_tensor` using weight and `conv_strides`.\n",
    " * We recommend you use same padding, but you're welcome to use any padding.\n",
    "* Add bias\n",
    "* Add a nonlinear activation to the convolution.\n",
    "* Apply Max Pooling using `pool_ksize` and `pool_strides`.\n",
    " * We recommend you use same padding, but you're welcome to use any padding.\n",
    "\n",
    "**Note:** You **can't** use [TensorFlow Layers](https://www.tensorflow.org/api_docs/python/tf/layers) or [TensorFlow Layers (contrib)](https://www.tensorflow.org/api_guides/python/contrib.layers) for **this** layer, but you can still use TensorFlow's [Neural Network](https://www.tensorflow.org/api_docs/python/tf/nn) package. You may still use the shortcut option for all the **other** layers."
   ]
  },
  {
   "cell_type": "code",
   "execution_count": 60,
   "metadata": {},
   "outputs": [
    {
     "name": "stdout",
     "output_type": "stream",
     "text": [
      "Tests Passed\n"
     ]
    }
   ],
   "source": [
    "def conv2d_maxpool(x_tensor, conv_num_outputs, conv_ksize, conv_strides, pool_ksize, pool_strides):\n",
    "    \"\"\"\n",
    "    Apply convolution then max pooling to x_tensor\n",
    "    :param x_tensor: TensorFlow Tensor\n",
    "    :param conv_num_outputs: Number of outputs for the convolutional layer\n",
    "    :param conv_ksize: kernal size 2-D Tuple for the convolutional layer\n",
    "    :param conv_strides: Stride 2-D Tuple for convolution\n",
    "    :param pool_ksize: kernal size 2-D Tuple for pool\n",
    "    :param pool_strides: Stride 2-D Tuple for pool\n",
    "    : return: A tensor that represents convolution and max pooling of x_tensor\n",
    "    \"\"\"\n",
    "    # TODO: Implement Function\n",
    "    \"\"\"\n",
    "    # print(conv_ksize)\n",
    "    # print(x_tensor)\n",
    "    \n",
    "    input_depth = x_tensor.get_shape().as_list()[-1]\n",
    "    # print(x_tensor.get_shape().as_list())\n",
    "    # print(input_depth)\n",
    "    \n",
    "    shape = list(conv_ksize + (input_depth,) + (conv_num_outputs,))\n",
    "    # print(shape)\n",
    "    \n",
    "    # tf.truncated_normal(shape, mean, stddev)\n",
    "    filter_weights = tf.Variable(tf.truncated_normal(shape, 0, 1)) # (altura, largura, profundidade do input, profundidade do output)\n",
    "    # print(filter_weights)\n",
    "    \n",
    "    filter_bias = tf.Variable(tf.zeros(conv_num_outputs))\n",
    "    conv_padding = 'SAME'\n",
    "    #print(conv_strides)\n",
    "    #print(list((1,)+conv_strides+(1,)))\n",
    "    #conv = tf.nn.conv2d(x_tensor, filter_weights, list(conv_strides), conv_padding)\n",
    "    conv = tf.nn.conv2d(x_tensor, filter_weights, list((1,)+conv_strides+(1,)), conv_padding)\n",
    "    conv = tf.nn.bias_add(conv, filter_bias)\n",
    "    conv = tf.nn.relu(conv)\n",
    "    max_padding = 'SAME'\n",
    "    return tf.nn.max_pool(conv, [1]+list(pool_ksize)+[1], [1]+list(pool_strides)+[1], max_padding)\n",
    "    \"\"\"\n",
    "    conv = tf.contrib.layers.convolution2d(x_tensor, conv_num_outputs, conv_ksize, conv_strides) \n",
    "    conv = tf.contrib.layers.max_pool2d(conv, pool_ksize, pool_strides)\n",
    "    return conv\n",
    "\n",
    "\n",
    "\n",
    "\"\"\"\n",
    "DON'T MODIFY ANYTHING IN THIS CELL THAT IS BELOW THIS LINE\n",
    "\"\"\"\n",
    "tests.test_con_pool(conv2d_maxpool)"
   ]
  },
  {
   "cell_type": "markdown",
   "metadata": {},
   "source": [
    "### Flatten Layer\n",
    "Implement the `flatten` function to change the dimension of `x_tensor` from a 4-D tensor to a 2-D tensor.  The output should be the shape (*Batch Size*, *Flattened Image Size*). Shortcut option: you can use classes from the [TensorFlow Layers](https://www.tensorflow.org/api_docs/python/tf/layers) or [TensorFlow Layers (contrib)](https://www.tensorflow.org/api_guides/python/contrib.layers) packages for this layer. For more of a challenge, only use other TensorFlow packages."
   ]
  },
  {
   "cell_type": "code",
   "execution_count": 61,
   "metadata": {},
   "outputs": [
    {
     "name": "stdout",
     "output_type": "stream",
     "text": [
      "Tests Passed\n"
     ]
    }
   ],
   "source": [
    "import numpy as np\n",
    "\n",
    "def flatten(x_tensor):\n",
    "    \"\"\"\n",
    "    Flatten x_tensor to (Batch Size, Flattened Image Size)\n",
    "    : x_tensor: A tensor of size (Batch Size, ...), where ... are the image dimensions.\n",
    "    : return: A tensor of size (Batch Size, Flattened Image Size).\n",
    "    \"\"\"\n",
    "    # TODO: Implement Function\n",
    "    \"\"\"\n",
    "    # print(x_tensor)\n",
    "    \n",
    "    # product of dimensions\n",
    "    # print(x_tensor.get_shape().as_list())\n",
    "    prod_dimensions = np.prod(x_tensor.get_shape().as_list()[1:])\n",
    "    \n",
    "    # print(prod_dimensions)\n",
    "    \n",
    "    # flattened = tf.reshape(tensor, shape)\n",
    "    # shape = [-1, prod_dimensions]\n",
    "    return tf.reshape(x_tensor, [-1, prod_dimensions])\n",
    "    \"\"\"  \n",
    "    return tf.contrib.layers.flatten(x_tensor)\n",
    "\n",
    "\n",
    "\n",
    "\"\"\"\n",
    "DON'T MODIFY ANYTHING IN THIS CELL THAT IS BELOW THIS LINE\n",
    "\"\"\"\n",
    "tests.test_flatten(flatten)"
   ]
  },
  {
   "cell_type": "markdown",
   "metadata": {},
   "source": [
    "### Fully-Connected Layer\n",
    "Implement the `fully_conn` function to apply a fully connected layer to `x_tensor` with the shape (*Batch Size*, *num_outputs*). Shortcut option: you can use classes from the [TensorFlow Layers](https://www.tensorflow.org/api_docs/python/tf/layers) or [TensorFlow Layers (contrib)](https://www.tensorflow.org/api_guides/python/contrib.layers) packages for this layer. For more of a challenge, only use other TensorFlow packages."
   ]
  },
  {
   "cell_type": "code",
   "execution_count": 62,
   "metadata": {},
   "outputs": [
    {
     "name": "stdout",
     "output_type": "stream",
     "text": [
      "Tests Passed\n"
     ]
    }
   ],
   "source": [
    "def fully_conn(x_tensor, num_outputs):\n",
    "    \"\"\"\n",
    "    Apply a fully connected layer to x_tensor using weight and bias\n",
    "    : x_tensor: A 2-D tensor where the first dimension is batch size.\n",
    "    : num_outputs: The number of output that the new tensor should be.\n",
    "    : return: A 2-D tensor where the second dimension is num_outputs.\n",
    "    \"\"\"\n",
    "    # TODO: Implement Function\n",
    "    return tf.contrib.layers.fully_connected(x_tensor, num_outputs)\n",
    "\n",
    "\n",
    "\"\"\"\n",
    "DON'T MODIFY ANYTHING IN THIS CELL THAT IS BELOW THIS LINE\n",
    "\"\"\"\n",
    "tests.test_fully_conn(fully_conn)"
   ]
  },
  {
   "cell_type": "markdown",
   "metadata": {},
   "source": [
    "### Output Layer\n",
    "Implement the `output` function to apply a fully connected layer to `x_tensor` with the shape (*Batch Size*, *num_outputs*). Shortcut option: you can use classes from the [TensorFlow Layers](https://www.tensorflow.org/api_docs/python/tf/layers) or [TensorFlow Layers (contrib)](https://www.tensorflow.org/api_guides/python/contrib.layers) packages for this layer. For more of a challenge, only use other TensorFlow packages.\n",
    "\n",
    "**Note:** Activation, softmax, or cross entropy should **not** be applied to this."
   ]
  },
  {
   "cell_type": "code",
   "execution_count": 63,
   "metadata": {},
   "outputs": [
    {
     "name": "stdout",
     "output_type": "stream",
     "text": [
      "Tests Passed\n"
     ]
    }
   ],
   "source": [
    "def output(x_tensor, num_outputs):\n",
    "    \"\"\"\n",
    "    Apply a output layer to x_tensor using weight and bias\n",
    "    : x_tensor: A 2-D tensor where the first dimension is batch size.\n",
    "    : num_outputs: The number of output that the new tensor should be.\n",
    "    : return: A 2-D tensor where the second dimension is num_outputs.\n",
    "    \"\"\"\n",
    "    # TODO: Implement Function\n",
    "    \"\"\"\n",
    "    # print(x_tensor)\n",
    "    # print(num_outputs)\n",
    "    shape = list((x_tensor.get_shape().as_list()[-1],) + (num_outputs,))\n",
    "    \n",
    "    weights = tf.Variable(tf.truncated_normal(shape,0,1))\n",
    "    bias = tf.Variable(tf.zeros(num_outputs))\n",
    "    \n",
    "    return tf.add(tf.matmul(x_tensor, weights), bias)\n",
    "    \"\"\"\n",
    "    return tf.contrib.layers.fully_connected(x_tensor, num_outputs)\n",
    "    \n",
    "\"\"\"\n",
    "DON'T MODIFY ANYTHING IN THIS CELL THAT IS BELOW THIS LINE\n",
    "\"\"\"\n",
    "tests.test_output(output)"
   ]
  },
  {
   "cell_type": "markdown",
   "metadata": {},
   "source": [
    "### Create Convolutional Model\n",
    "Implement the function `conv_net` to create a convolutional neural network model. The function takes in a batch of images, `x`, and outputs logits.  Use the layers you created above to create this model:\n",
    "\n",
    "* Apply 1, 2, or 3 Convolution and Max Pool layers\n",
    "* Apply a Flatten Layer\n",
    "* Apply 1, 2, or 3 Fully Connected Layers\n",
    "* Apply an Output Layer\n",
    "* Return the output\n",
    "* Apply [TensorFlow's Dropout](https://www.tensorflow.org/api_docs/python/tf/nn/dropout) to one or more layers in the model using `keep_prob`. "
   ]
  },
  {
   "cell_type": "code",
   "execution_count": 77,
   "metadata": {},
   "outputs": [
    {
     "name": "stdout",
     "output_type": "stream",
     "text": [
      "Neural Network Built!\n"
     ]
    }
   ],
   "source": [
    "def conv_net(x, keep_prob):\n",
    "    \"\"\"\n",
    "    Create a convolutional neural network model\n",
    "    : x: Placeholder tensor that holds image data.\n",
    "    : keep_prob: Placeholder tensor that hold dropout keep probability.\n",
    "    : return: Tensor that represents logits\n",
    "    \"\"\"\n",
    "    # TODO: Apply 1, 2, or 3 Convolution and Max Pool layers\n",
    "    #    Play around with different number of outputs, kernel size and stride\n",
    "    # Function Definition from Above:\n",
    "    #    conv2d_maxpool(x_tensor, conv_num_outputs, conv_ksize, conv_strides, pool_ksize, pool_strides)\n",
    "    conv_model = conv2d_maxpool(x, 10, (5,5), (1,1), (5,5), (1,1))\n",
    "    conv_model = conv2d_maxpool(conv_model, 10, (4,4), (1,1), (4,4), (1,1))\n",
    "    #conv_model = tf.nn.relu(conv_model)\n",
    "    conv_model = tf.nn.dropout(conv_model, keep_prob)\n",
    "\n",
    "    # TODO: Apply a Flatten Layer\n",
    "    # Function Definition from Above:\n",
    "    #   flatten(x_tensor)\n",
    "    conv_model = flatten(conv_model)\n",
    "    \n",
    "\n",
    "    # TODO: Apply 1, 2, or 3 Fully Connected Layers\n",
    "    #    Play around with different number of outputs\n",
    "    # Function Definition from Above:\n",
    "    #   fully_conn(x_tensor, num_outputs)\n",
    "    conv_model = fully_conn(conv_model, 30)\n",
    "    #conv_model = tf.nn.relu(conv_model)\n",
    "    #conv_model = tf.nn.dropout(conv_model, keep_prob)\n",
    "    \n",
    "    \n",
    "    # TODO: Apply an Output Layer\n",
    "    #    Set this to the number of classes\n",
    "    # Function Definition from Above:\n",
    "    #   output(x_tensor, num_outputs)\n",
    "    conv_model = output(conv_model, 10)\n",
    "    \n",
    "    \n",
    "    # TODO: return output\n",
    "    return conv_model\n",
    "\n",
    "\n",
    "\"\"\"\n",
    "DON'T MODIFY ANYTHING IN THIS CELL THAT IS BELOW THIS LINE\n",
    "\"\"\"\n",
    "\n",
    "##############################\n",
    "## Build the Neural Network ##\n",
    "##############################\n",
    "\n",
    "# Remove previous weights, bias, inputs, etc..\n",
    "tf.reset_default_graph()\n",
    "\n",
    "# Inputs\n",
    "x = neural_net_image_input((32, 32, 3))\n",
    "y = neural_net_label_input(10)\n",
    "keep_prob = neural_net_keep_prob_input()\n",
    "\n",
    "# Model\n",
    "logits = conv_net(x, keep_prob)\n",
    "\n",
    "# Name logits Tensor, so that is can be loaded from disk after training\n",
    "logits = tf.identity(logits, name='logits')\n",
    "\n",
    "# Loss and Optimizer\n",
    "cost = tf.reduce_mean(tf.nn.softmax_cross_entropy_with_logits(logits=logits, labels=y))\n",
    "optimizer = tf.train.AdamOptimizer().minimize(cost)\n",
    "\n",
    "# Accuracy\n",
    "correct_pred = tf.equal(tf.argmax(logits, 1), tf.argmax(y, 1))\n",
    "accuracy = tf.reduce_mean(tf.cast(correct_pred, tf.float32), name='accuracy')\n",
    "\n",
    "tests.test_conv_net(conv_net)"
   ]
  },
  {
   "cell_type": "markdown",
   "metadata": {},
   "source": [
    "## Train the Neural Network\n",
    "### Single Optimization\n",
    "Implement the function `train_neural_network` to do a single optimization.  The optimization should use `optimizer` to optimize in `session` with a `feed_dict` of the following:\n",
    "* `x` for image input\n",
    "* `y` for labels\n",
    "* `keep_prob` for keep probability for dropout\n",
    "\n",
    "This function will be called for each batch, so `tf.global_variables_initializer()` has already been called.\n",
    "\n",
    "Note: Nothing needs to be returned. This function is only optimizing the neural network."
   ]
  },
  {
   "cell_type": "code",
   "execution_count": 78,
   "metadata": {},
   "outputs": [
    {
     "name": "stdout",
     "output_type": "stream",
     "text": [
      "Tests Passed\n"
     ]
    }
   ],
   "source": [
    "def train_neural_network(session, optimizer, keep_probability, feature_batch, label_batch):\n",
    "    \"\"\"\n",
    "    Optimize the session on a batch of images and labels\n",
    "    : session: Current TensorFlow session\n",
    "    : optimizer: TensorFlow optimizer function\n",
    "    : keep_probability: keep probability\n",
    "    : feature_batch: Batch of Numpy image data\n",
    "    : label_batch: Batch of Numpy label data\n",
    "    \"\"\"\n",
    "    # TODO: Implement Function\n",
    "    # pass\n",
    "    session.run(optimizer, feed_dict={x: feature_batch, y: label_batch, keep_prob: keep_probability})\n",
    "\n",
    "\n",
    "\"\"\"\n",
    "DON'T MODIFY ANYTHING IN THIS CELL THAT IS BELOW THIS LINE\n",
    "\"\"\"\n",
    "tests.test_train_nn(train_neural_network)"
   ]
  },
  {
   "cell_type": "markdown",
   "metadata": {},
   "source": [
    "### Show Stats\n",
    "Implement the function `print_stats` to print loss and validation accuracy.  Use the global variables `valid_features` and `valid_labels` to calculate validation accuracy.  Use a keep probability of `1.0` to calculate the loss and validation accuracy."
   ]
  },
  {
   "cell_type": "code",
   "execution_count": 70,
   "metadata": {},
   "outputs": [],
   "source": [
    "def print_stats(session, feature_batch, label_batch, cost, accuracy):\n",
    "    \"\"\"\n",
    "    Print information about loss and validation accuracy\n",
    "    : session: Current TensorFlow session\n",
    "    : feature_batch: Batch of Numpy image data\n",
    "    : label_batch: Batch of Numpy label data\n",
    "    : cost: TensorFlow cost function\n",
    "    : accuracy: TensorFlow accuracy function\n",
    "    \"\"\"\n",
    "    # TODO: Implement Function\n",
    "    # pass\n",
    "    loss = session.run(cost, feed_dict={x: feature_batch, y: label_batch, keep_prob: 1.})\n",
    "    valid_acc = session.run(accuracy, feed_dict={x: feature_batch, y: label_batch, keep_prob: 1.})\n",
    "    print('Loss: {:>10.4f} Validation Accuracy: {:.6f}'.format(loss, valid_acc))"
   ]
  },
  {
   "cell_type": "markdown",
   "metadata": {},
   "source": [
    "### Hyperparameters\n",
    "Tune the following parameters:\n",
    "* Set `epochs` to the number of iterations until the network stops learning or start overfitting\n",
    "* Set `batch_size` to the highest number that your machine has memory for.  Most people set them to common sizes of memory:\n",
    " * 64\n",
    " * 128\n",
    " * 256\n",
    " * ...\n",
    "* Set `keep_probability` to the probability of keeping a node using dropout"
   ]
  },
  {
   "cell_type": "code",
   "execution_count": 79,
   "metadata": {
    "collapsed": true
   },
   "outputs": [],
   "source": [
    "# TODO: Tune Parameters\n",
    "epochs = 50\n",
    "batch_size = 256\n",
    "keep_probability = 0.1"
   ]
  },
  {
   "cell_type": "markdown",
   "metadata": {},
   "source": [
    "### Train on a Single CIFAR-10 Batch\n",
    "Instead of training the neural network on all the CIFAR-10 batches of data, let's use a single batch. This should save time while you iterate on the model to get a better accuracy.  Once the final validation accuracy is 50% or greater, run the model on all the data in the next section."
   ]
  },
  {
   "cell_type": "code",
   "execution_count": 80,
   "metadata": {},
   "outputs": [
    {
     "name": "stdout",
     "output_type": "stream",
     "text": [
      "Checking the Training on a Single Batch...\n",
      "Epoch  1, CIFAR-10 Batch 1:  Loss:     2.2624 Validation Accuracy: 0.175000\n",
      "Epoch  2, CIFAR-10 Batch 1:  Loss:     2.1487 Validation Accuracy: 0.200000\n",
      "Epoch  3, CIFAR-10 Batch 1:  Loss:     2.0203 Validation Accuracy: 0.300000\n",
      "Epoch  4, CIFAR-10 Batch 1:  Loss:     1.8648 Validation Accuracy: 0.350000\n",
      "Epoch  5, CIFAR-10 Batch 1:  Loss:     1.7521 Validation Accuracy: 0.400000\n",
      "Epoch  6, CIFAR-10 Batch 1:  Loss:     1.7040 Validation Accuracy: 0.450000\n",
      "Epoch  7, CIFAR-10 Batch 1:  Loss:     1.6233 Validation Accuracy: 0.450000\n",
      "Epoch  8, CIFAR-10 Batch 1:  Loss:     1.5347 Validation Accuracy: 0.425000\n",
      "Epoch  9, CIFAR-10 Batch 1:  Loss:     1.4998 Validation Accuracy: 0.475000\n",
      "Epoch 10, CIFAR-10 Batch 1:  Loss:     1.4536 Validation Accuracy: 0.500000\n",
      "Epoch 11, CIFAR-10 Batch 1:  Loss:     1.3480 Validation Accuracy: 0.575000\n",
      "Epoch 12, CIFAR-10 Batch 1:  Loss:     1.3403 Validation Accuracy: 0.600000\n",
      "Epoch 13, CIFAR-10 Batch 1:  Loss:     1.3274 Validation Accuracy: 0.550000\n",
      "Epoch 14, CIFAR-10 Batch 1:  Loss:     1.1946 Validation Accuracy: 0.575000\n",
      "Epoch 15, CIFAR-10 Batch 1:  Loss:     1.1692 Validation Accuracy: 0.600000\n",
      "Epoch 16, CIFAR-10 Batch 1:  Loss:     1.1166 Validation Accuracy: 0.625000\n",
      "Epoch 17, CIFAR-10 Batch 1:  Loss:     1.0695 Validation Accuracy: 0.750000\n",
      "Epoch 18, CIFAR-10 Batch 1:  Loss:     1.0495 Validation Accuracy: 0.750000\n",
      "Epoch 19, CIFAR-10 Batch 1:  Loss:     1.0457 Validation Accuracy: 0.725000\n",
      "Epoch 20, CIFAR-10 Batch 1:  Loss:     1.0051 Validation Accuracy: 0.725000\n",
      "Epoch 21, CIFAR-10 Batch 1:  Loss:     0.9770 Validation Accuracy: 0.775000\n",
      "Epoch 22, CIFAR-10 Batch 1:  Loss:     0.9735 Validation Accuracy: 0.725000\n",
      "Epoch 23, CIFAR-10 Batch 1:  Loss:     0.9238 Validation Accuracy: 0.775000\n",
      "Epoch 24, CIFAR-10 Batch 1:  Loss:     0.9339 Validation Accuracy: 0.775000\n",
      "Epoch 25, CIFAR-10 Batch 1:  Loss:     0.8952 Validation Accuracy: 0.750000\n",
      "Epoch 26, CIFAR-10 Batch 1:  Loss:     0.8283 Validation Accuracy: 0.850000\n",
      "Epoch 27, CIFAR-10 Batch 1:  Loss:     0.8387 Validation Accuracy: 0.825000\n",
      "Epoch 28, CIFAR-10 Batch 1:  Loss:     0.8311 Validation Accuracy: 0.800000\n",
      "Epoch 29, CIFAR-10 Batch 1:  Loss:     0.8107 Validation Accuracy: 0.850000\n",
      "Epoch 30, CIFAR-10 Batch 1:  Loss:     0.8232 Validation Accuracy: 0.800000\n",
      "Epoch 31, CIFAR-10 Batch 1:  Loss:     0.7753 Validation Accuracy: 0.800000\n",
      "Epoch 32, CIFAR-10 Batch 1:  Loss:     0.7801 Validation Accuracy: 0.850000\n",
      "Epoch 33, CIFAR-10 Batch 1:  Loss:     0.7323 Validation Accuracy: 0.850000\n",
      "Epoch 34, CIFAR-10 Batch 1:  Loss:     0.7283 Validation Accuracy: 0.875000\n",
      "Epoch 35, CIFAR-10 Batch 1:  Loss:     0.7088 Validation Accuracy: 0.800000\n",
      "Epoch 36, CIFAR-10 Batch 1:  Loss:     0.6934 Validation Accuracy: 0.825000\n",
      "Epoch 37, CIFAR-10 Batch 1:  Loss:     0.6735 Validation Accuracy: 0.825000\n",
      "Epoch 38, CIFAR-10 Batch 1:  Loss:     0.7120 Validation Accuracy: 0.850000\n",
      "Epoch 39, CIFAR-10 Batch 1:  Loss:     0.6510 Validation Accuracy: 0.825000\n",
      "Epoch 40, CIFAR-10 Batch 1:  Loss:     0.6939 Validation Accuracy: 0.825000\n",
      "Epoch 41, CIFAR-10 Batch 1:  Loss:     0.6621 Validation Accuracy: 0.775000\n",
      "Epoch 42, CIFAR-10 Batch 1:  Loss:     0.6357 Validation Accuracy: 0.875000\n",
      "Epoch 43, CIFAR-10 Batch 1:  Loss:     0.6505 Validation Accuracy: 0.825000\n",
      "Epoch 44, CIFAR-10 Batch 1:  Loss:     0.6173 Validation Accuracy: 0.825000\n",
      "Epoch 45, CIFAR-10 Batch 1:  Loss:     0.6437 Validation Accuracy: 0.800000\n",
      "Epoch 46, CIFAR-10 Batch 1:  Loss:     0.6213 Validation Accuracy: 0.850000\n",
      "Epoch 47, CIFAR-10 Batch 1:  Loss:     0.6368 Validation Accuracy: 0.875000\n",
      "Epoch 48, CIFAR-10 Batch 1:  Loss:     0.5990 Validation Accuracy: 0.850000\n",
      "Epoch 49, CIFAR-10 Batch 1:  Loss:     0.5978 Validation Accuracy: 0.875000\n",
      "Epoch 50, CIFAR-10 Batch 1:  Loss:     0.5876 Validation Accuracy: 0.850000\n"
     ]
    }
   ],
   "source": [
    "\"\"\"\n",
    "DON'T MODIFY ANYTHING IN THIS CELL\n",
    "\"\"\"\n",
    "print('Checking the Training on a Single Batch...')\n",
    "with tf.Session() as sess:\n",
    "    # Initializing the variables\n",
    "    sess.run(tf.global_variables_initializer())\n",
    "    \n",
    "    # Training cycle\n",
    "    for epoch in range(epochs):\n",
    "        batch_i = 1\n",
    "        for batch_features, batch_labels in helper.load_preprocess_training_batch(batch_i, batch_size):\n",
    "            train_neural_network(sess, optimizer, keep_probability, batch_features, batch_labels)\n",
    "        print('Epoch {:>2}, CIFAR-10 Batch {}:  '.format(epoch + 1, batch_i), end='')\n",
    "        print_stats(sess, batch_features, batch_labels, cost, accuracy)"
   ]
  },
  {
   "cell_type": "markdown",
   "metadata": {},
   "source": [
    "### Fully Train the Model\n",
    "Now that you got a good accuracy with a single CIFAR-10 batch, try it with all five batches."
   ]
  },
  {
   "cell_type": "code",
   "execution_count": 81,
   "metadata": {},
   "outputs": [
    {
     "name": "stdout",
     "output_type": "stream",
     "text": [
      "Training...\n",
      "Epoch  1, CIFAR-10 Batch 1:  Loss:     2.2481 Validation Accuracy: 0.275000\n",
      "Epoch  1, CIFAR-10 Batch 2:  Loss:     2.1335 Validation Accuracy: 0.225000\n",
      "Epoch  1, CIFAR-10 Batch 3:  Loss:     1.7374 Validation Accuracy: 0.400000\n",
      "Epoch  1, CIFAR-10 Batch 4:  Loss:     1.7878 Validation Accuracy: 0.450000\n",
      "Epoch  1, CIFAR-10 Batch 5:  Loss:     1.7613 Validation Accuracy: 0.450000\n",
      "Epoch  2, CIFAR-10 Batch 1:  Loss:     1.8185 Validation Accuracy: 0.350000\n",
      "Epoch  2, CIFAR-10 Batch 2:  Loss:     1.8830 Validation Accuracy: 0.375000\n",
      "Epoch  2, CIFAR-10 Batch 3:  Loss:     1.5625 Validation Accuracy: 0.500000\n",
      "Epoch  2, CIFAR-10 Batch 4:  Loss:     1.5059 Validation Accuracy: 0.450000\n",
      "Epoch  2, CIFAR-10 Batch 5:  Loss:     1.6444 Validation Accuracy: 0.375000\n",
      "Epoch  3, CIFAR-10 Batch 1:  Loss:     1.6634 Validation Accuracy: 0.475000\n",
      "Epoch  3, CIFAR-10 Batch 2:  Loss:     1.7133 Validation Accuracy: 0.450000\n",
      "Epoch  3, CIFAR-10 Batch 3:  Loss:     1.4784 Validation Accuracy: 0.525000\n",
      "Epoch  3, CIFAR-10 Batch 4:  Loss:     1.3370 Validation Accuracy: 0.525000\n",
      "Epoch  3, CIFAR-10 Batch 5:  Loss:     1.5456 Validation Accuracy: 0.400000\n",
      "Epoch  4, CIFAR-10 Batch 1:  Loss:     1.5971 Validation Accuracy: 0.450000\n",
      "Epoch  4, CIFAR-10 Batch 2:  Loss:     1.6388 Validation Accuracy: 0.450000\n",
      "Epoch  4, CIFAR-10 Batch 3:  Loss:     1.3747 Validation Accuracy: 0.575000\n",
      "Epoch  4, CIFAR-10 Batch 4:  Loss:     1.2987 Validation Accuracy: 0.525000\n",
      "Epoch  4, CIFAR-10 Batch 5:  Loss:     1.4829 Validation Accuracy: 0.450000\n",
      "Epoch  5, CIFAR-10 Batch 1:  Loss:     1.5397 Validation Accuracy: 0.450000\n",
      "Epoch  5, CIFAR-10 Batch 2:  Loss:     1.3852 Validation Accuracy: 0.575000\n",
      "Epoch  5, CIFAR-10 Batch 3:  Loss:     1.1228 Validation Accuracy: 0.625000\n",
      "Epoch  5, CIFAR-10 Batch 4:  Loss:     1.1373 Validation Accuracy: 0.700000\n",
      "Epoch  5, CIFAR-10 Batch 5:  Loss:     1.2876 Validation Accuracy: 0.525000\n",
      "Epoch  6, CIFAR-10 Batch 1:  Loss:     1.4095 Validation Accuracy: 0.600000\n",
      "Epoch  6, CIFAR-10 Batch 2:  Loss:     1.2716 Validation Accuracy: 0.625000\n",
      "Epoch  6, CIFAR-10 Batch 3:  Loss:     1.0276 Validation Accuracy: 0.625000\n",
      "Epoch  6, CIFAR-10 Batch 4:  Loss:     1.1466 Validation Accuracy: 0.550000\n",
      "Epoch  6, CIFAR-10 Batch 5:  Loss:     1.2624 Validation Accuracy: 0.525000\n",
      "Epoch  7, CIFAR-10 Batch 1:  Loss:     1.3685 Validation Accuracy: 0.550000\n",
      "Epoch  7, CIFAR-10 Batch 2:  Loss:     1.2315 Validation Accuracy: 0.600000\n",
      "Epoch  7, CIFAR-10 Batch 3:  Loss:     0.9723 Validation Accuracy: 0.675000\n",
      "Epoch  7, CIFAR-10 Batch 4:  Loss:     1.0656 Validation Accuracy: 0.650000\n",
      "Epoch  7, CIFAR-10 Batch 5:  Loss:     1.1864 Validation Accuracy: 0.500000\n",
      "Epoch  8, CIFAR-10 Batch 1:  Loss:     1.3019 Validation Accuracy: 0.525000\n",
      "Epoch  8, CIFAR-10 Batch 2:  Loss:     1.2288 Validation Accuracy: 0.550000\n",
      "Epoch  8, CIFAR-10 Batch 3:  Loss:     0.9890 Validation Accuracy: 0.600000\n",
      "Epoch  8, CIFAR-10 Batch 4:  Loss:     1.1015 Validation Accuracy: 0.575000\n",
      "Epoch  8, CIFAR-10 Batch 5:  Loss:     1.1159 Validation Accuracy: 0.550000\n",
      "Epoch  9, CIFAR-10 Batch 1:  Loss:     1.2179 Validation Accuracy: 0.525000\n",
      "Epoch  9, CIFAR-10 Batch 2:  Loss:     1.1689 Validation Accuracy: 0.600000\n",
      "Epoch  9, CIFAR-10 Batch 3:  Loss:     0.9474 Validation Accuracy: 0.650000\n",
      "Epoch  9, CIFAR-10 Batch 4:  Loss:     1.0124 Validation Accuracy: 0.675000\n",
      "Epoch  9, CIFAR-10 Batch 5:  Loss:     1.1320 Validation Accuracy: 0.575000\n",
      "Epoch 10, CIFAR-10 Batch 1:  Loss:     1.1244 Validation Accuracy: 0.550000\n",
      "Epoch 10, CIFAR-10 Batch 2:  Loss:     1.1108 Validation Accuracy: 0.600000\n",
      "Epoch 10, CIFAR-10 Batch 3:  Loss:     0.9199 Validation Accuracy: 0.700000\n",
      "Epoch 10, CIFAR-10 Batch 4:  Loss:     1.0255 Validation Accuracy: 0.600000\n",
      "Epoch 10, CIFAR-10 Batch 5:  Loss:     1.0487 Validation Accuracy: 0.600000\n",
      "Epoch 11, CIFAR-10 Batch 1:  Loss:     1.0640 Validation Accuracy: 0.625000\n",
      "Epoch 11, CIFAR-10 Batch 2:  Loss:     1.0893 Validation Accuracy: 0.650000\n",
      "Epoch 11, CIFAR-10 Batch 3:  Loss:     0.8873 Validation Accuracy: 0.675000\n",
      "Epoch 11, CIFAR-10 Batch 4:  Loss:     0.9873 Validation Accuracy: 0.625000\n",
      "Epoch 11, CIFAR-10 Batch 5:  Loss:     1.0573 Validation Accuracy: 0.575000\n",
      "Epoch 12, CIFAR-10 Batch 1:  Loss:     1.0190 Validation Accuracy: 0.650000\n",
      "Epoch 12, CIFAR-10 Batch 2:  Loss:     1.0658 Validation Accuracy: 0.650000\n",
      "Epoch 12, CIFAR-10 Batch 3:  Loss:     0.9318 Validation Accuracy: 0.650000\n",
      "Epoch 12, CIFAR-10 Batch 4:  Loss:     0.9503 Validation Accuracy: 0.650000\n",
      "Epoch 12, CIFAR-10 Batch 5:  Loss:     1.0056 Validation Accuracy: 0.625000\n",
      "Epoch 13, CIFAR-10 Batch 1:  Loss:     1.0064 Validation Accuracy: 0.650000\n",
      "Epoch 13, CIFAR-10 Batch 2:  Loss:     1.1057 Validation Accuracy: 0.600000\n",
      "Epoch 13, CIFAR-10 Batch 3:  Loss:     0.9004 Validation Accuracy: 0.675000\n",
      "Epoch 13, CIFAR-10 Batch 4:  Loss:     0.9727 Validation Accuracy: 0.625000\n",
      "Epoch 13, CIFAR-10 Batch 5:  Loss:     0.9720 Validation Accuracy: 0.650000\n",
      "Epoch 14, CIFAR-10 Batch 1:  Loss:     0.9420 Validation Accuracy: 0.675000\n",
      "Epoch 14, CIFAR-10 Batch 2:  Loss:     1.0429 Validation Accuracy: 0.625000\n",
      "Epoch 14, CIFAR-10 Batch 3:  Loss:     0.8811 Validation Accuracy: 0.700000\n",
      "Epoch 14, CIFAR-10 Batch 4:  Loss:     0.9755 Validation Accuracy: 0.625000\n",
      "Epoch 14, CIFAR-10 Batch 5:  Loss:     0.9977 Validation Accuracy: 0.575000\n",
      "Epoch 15, CIFAR-10 Batch 1:  Loss:     0.9996 Validation Accuracy: 0.625000\n",
      "Epoch 15, CIFAR-10 Batch 2:  Loss:     1.0374 Validation Accuracy: 0.600000\n",
      "Epoch 15, CIFAR-10 Batch 3:  Loss:     0.8838 Validation Accuracy: 0.650000\n",
      "Epoch 15, CIFAR-10 Batch 4:  Loss:     0.9335 Validation Accuracy: 0.625000\n",
      "Epoch 15, CIFAR-10 Batch 5:  Loss:     0.9744 Validation Accuracy: 0.650000\n",
      "Epoch 16, CIFAR-10 Batch 1:  Loss:     0.9351 Validation Accuracy: 0.675000\n",
      "Epoch 16, CIFAR-10 Batch 2:  Loss:     1.0192 Validation Accuracy: 0.650000\n",
      "Epoch 16, CIFAR-10 Batch 3:  Loss:     0.8048 Validation Accuracy: 0.750000\n",
      "Epoch 16, CIFAR-10 Batch 4:  Loss:     0.8811 Validation Accuracy: 0.650000\n",
      "Epoch 16, CIFAR-10 Batch 5:  Loss:     0.9590 Validation Accuracy: 0.650000\n",
      "Epoch 17, CIFAR-10 Batch 1:  Loss:     0.9423 Validation Accuracy: 0.625000\n",
      "Epoch 17, CIFAR-10 Batch 2:  Loss:     1.0308 Validation Accuracy: 0.600000\n",
      "Epoch 17, CIFAR-10 Batch 3:  Loss:     0.8045 Validation Accuracy: 0.750000\n",
      "Epoch 17, CIFAR-10 Batch 4:  Loss:     0.9007 Validation Accuracy: 0.675000\n",
      "Epoch 17, CIFAR-10 Batch 5:  Loss:     0.9430 Validation Accuracy: 0.650000\n",
      "Epoch 18, CIFAR-10 Batch 1:  Loss:     0.8946 Validation Accuracy: 0.725000\n",
      "Epoch 18, CIFAR-10 Batch 2:  Loss:     1.0173 Validation Accuracy: 0.600000\n",
      "Epoch 18, CIFAR-10 Batch 3:  Loss:     0.8037 Validation Accuracy: 0.700000\n",
      "Epoch 18, CIFAR-10 Batch 4:  Loss:     0.8680 Validation Accuracy: 0.675000\n",
      "Epoch 18, CIFAR-10 Batch 5:  Loss:     0.9726 Validation Accuracy: 0.650000\n",
      "Epoch 19, CIFAR-10 Batch 1:  Loss:     0.9049 Validation Accuracy: 0.675000\n",
      "Epoch 19, CIFAR-10 Batch 2:  Loss:     1.0125 Validation Accuracy: 0.650000\n",
      "Epoch 19, CIFAR-10 Batch 3:  Loss:     0.7525 Validation Accuracy: 0.750000\n",
      "Epoch 19, CIFAR-10 Batch 4:  Loss:     0.8744 Validation Accuracy: 0.700000\n",
      "Epoch 19, CIFAR-10 Batch 5:  Loss:     0.9230 Validation Accuracy: 0.675000\n",
      "Epoch 20, CIFAR-10 Batch 1:  Loss:     0.9629 Validation Accuracy: 0.650000\n",
      "Epoch 20, CIFAR-10 Batch 2:  Loss:     0.9839 Validation Accuracy: 0.675000\n",
      "Epoch 20, CIFAR-10 Batch 3:  Loss:     0.7534 Validation Accuracy: 0.775000\n",
      "Epoch 20, CIFAR-10 Batch 4:  Loss:     0.8582 Validation Accuracy: 0.700000\n",
      "Epoch 20, CIFAR-10 Batch 5:  Loss:     0.9780 Validation Accuracy: 0.650000\n",
      "Epoch 21, CIFAR-10 Batch 1:  Loss:     0.9448 Validation Accuracy: 0.600000\n",
      "Epoch 21, CIFAR-10 Batch 2:  Loss:     0.9476 Validation Accuracy: 0.725000\n",
      "Epoch 21, CIFAR-10 Batch 3:  Loss:     0.7251 Validation Accuracy: 0.775000\n",
      "Epoch 21, CIFAR-10 Batch 4:  Loss:     0.8780 Validation Accuracy: 0.700000\n",
      "Epoch 21, CIFAR-10 Batch 5:  Loss:     0.9245 Validation Accuracy: 0.625000\n",
      "Epoch 22, CIFAR-10 Batch 1:  Loss:     0.9201 Validation Accuracy: 0.650000\n",
      "Epoch 22, CIFAR-10 Batch 2:  Loss:     0.9638 Validation Accuracy: 0.675000\n",
      "Epoch 22, CIFAR-10 Batch 3:  Loss:     0.7273 Validation Accuracy: 0.775000\n"
     ]
    },
    {
     "name": "stdout",
     "output_type": "stream",
     "text": [
      "Epoch 22, CIFAR-10 Batch 4:  Loss:     0.8571 Validation Accuracy: 0.750000\n",
      "Epoch 22, CIFAR-10 Batch 5:  Loss:     0.8905 Validation Accuracy: 0.650000\n",
      "Epoch 23, CIFAR-10 Batch 1:  Loss:     0.8501 Validation Accuracy: 0.700000\n",
      "Epoch 23, CIFAR-10 Batch 2:  Loss:     0.9446 Validation Accuracy: 0.650000\n",
      "Epoch 23, CIFAR-10 Batch 3:  Loss:     0.7117 Validation Accuracy: 0.825000\n",
      "Epoch 23, CIFAR-10 Batch 4:  Loss:     0.8509 Validation Accuracy: 0.750000\n",
      "Epoch 23, CIFAR-10 Batch 5:  Loss:     0.9183 Validation Accuracy: 0.675000\n",
      "Epoch 24, CIFAR-10 Batch 1:  Loss:     0.8108 Validation Accuracy: 0.725000\n",
      "Epoch 24, CIFAR-10 Batch 2:  Loss:     0.9449 Validation Accuracy: 0.625000\n",
      "Epoch 24, CIFAR-10 Batch 3:  Loss:     0.7218 Validation Accuracy: 0.750000\n",
      "Epoch 24, CIFAR-10 Batch 4:  Loss:     0.8370 Validation Accuracy: 0.775000\n",
      "Epoch 24, CIFAR-10 Batch 5:  Loss:     0.9208 Validation Accuracy: 0.675000\n",
      "Epoch 25, CIFAR-10 Batch 1:  Loss:     0.7973 Validation Accuracy: 0.725000\n",
      "Epoch 25, CIFAR-10 Batch 2:  Loss:     0.9042 Validation Accuracy: 0.650000\n",
      "Epoch 25, CIFAR-10 Batch 3:  Loss:     0.7154 Validation Accuracy: 0.850000\n",
      "Epoch 25, CIFAR-10 Batch 4:  Loss:     0.8533 Validation Accuracy: 0.750000\n",
      "Epoch 25, CIFAR-10 Batch 5:  Loss:     0.8987 Validation Accuracy: 0.625000\n",
      "Epoch 26, CIFAR-10 Batch 1:  Loss:     0.7590 Validation Accuracy: 0.750000\n",
      "Epoch 26, CIFAR-10 Batch 2:  Loss:     0.9285 Validation Accuracy: 0.650000\n",
      "Epoch 26, CIFAR-10 Batch 3:  Loss:     0.6866 Validation Accuracy: 0.825000\n",
      "Epoch 26, CIFAR-10 Batch 4:  Loss:     0.8704 Validation Accuracy: 0.775000\n",
      "Epoch 26, CIFAR-10 Batch 5:  Loss:     0.8608 Validation Accuracy: 0.700000\n",
      "Epoch 27, CIFAR-10 Batch 1:  Loss:     0.7705 Validation Accuracy: 0.750000\n",
      "Epoch 27, CIFAR-10 Batch 2:  Loss:     0.8563 Validation Accuracy: 0.725000\n",
      "Epoch 27, CIFAR-10 Batch 3:  Loss:     0.6790 Validation Accuracy: 0.800000\n",
      "Epoch 27, CIFAR-10 Batch 4:  Loss:     0.8498 Validation Accuracy: 0.800000\n",
      "Epoch 27, CIFAR-10 Batch 5:  Loss:     0.8527 Validation Accuracy: 0.675000\n",
      "Epoch 28, CIFAR-10 Batch 1:  Loss:     0.7621 Validation Accuracy: 0.725000\n",
      "Epoch 28, CIFAR-10 Batch 2:  Loss:     0.8808 Validation Accuracy: 0.675000\n",
      "Epoch 28, CIFAR-10 Batch 3:  Loss:     0.6643 Validation Accuracy: 0.800000\n",
      "Epoch 28, CIFAR-10 Batch 4:  Loss:     0.8473 Validation Accuracy: 0.775000\n",
      "Epoch 28, CIFAR-10 Batch 5:  Loss:     0.8637 Validation Accuracy: 0.675000\n",
      "Epoch 29, CIFAR-10 Batch 1:  Loss:     0.7463 Validation Accuracy: 0.775000\n",
      "Epoch 29, CIFAR-10 Batch 2:  Loss:     0.8661 Validation Accuracy: 0.700000\n",
      "Epoch 29, CIFAR-10 Batch 3:  Loss:     0.6806 Validation Accuracy: 0.800000\n",
      "Epoch 29, CIFAR-10 Batch 4:  Loss:     0.8255 Validation Accuracy: 0.725000\n",
      "Epoch 29, CIFAR-10 Batch 5:  Loss:     0.8581 Validation Accuracy: 0.725000\n",
      "Epoch 30, CIFAR-10 Batch 1:  Loss:     0.7978 Validation Accuracy: 0.750000\n",
      "Epoch 30, CIFAR-10 Batch 2:  Loss:     0.9049 Validation Accuracy: 0.700000\n",
      "Epoch 30, CIFAR-10 Batch 3:  Loss:     0.6704 Validation Accuracy: 0.850000\n",
      "Epoch 30, CIFAR-10 Batch 4:  Loss:     0.8180 Validation Accuracy: 0.750000\n",
      "Epoch 30, CIFAR-10 Batch 5:  Loss:     0.8587 Validation Accuracy: 0.650000\n",
      "Epoch 31, CIFAR-10 Batch 1:  Loss:     0.7692 Validation Accuracy: 0.700000\n",
      "Epoch 31, CIFAR-10 Batch 2:  Loss:     0.8814 Validation Accuracy: 0.650000\n",
      "Epoch 31, CIFAR-10 Batch 3:  Loss:     0.6557 Validation Accuracy: 0.850000\n",
      "Epoch 31, CIFAR-10 Batch 4:  Loss:     0.8189 Validation Accuracy: 0.775000\n",
      "Epoch 31, CIFAR-10 Batch 5:  Loss:     0.8150 Validation Accuracy: 0.650000\n",
      "Epoch 32, CIFAR-10 Batch 1:  Loss:     0.7562 Validation Accuracy: 0.700000\n",
      "Epoch 32, CIFAR-10 Batch 2:  Loss:     0.8271 Validation Accuracy: 0.675000\n",
      "Epoch 32, CIFAR-10 Batch 3:  Loss:     0.6402 Validation Accuracy: 0.825000\n",
      "Epoch 32, CIFAR-10 Batch 4:  Loss:     0.7980 Validation Accuracy: 0.775000\n",
      "Epoch 32, CIFAR-10 Batch 5:  Loss:     0.8280 Validation Accuracy: 0.625000\n",
      "Epoch 33, CIFAR-10 Batch 1:  Loss:     0.7451 Validation Accuracy: 0.750000\n",
      "Epoch 33, CIFAR-10 Batch 2:  Loss:     0.8174 Validation Accuracy: 0.750000\n",
      "Epoch 33, CIFAR-10 Batch 3:  Loss:     0.6494 Validation Accuracy: 0.825000\n",
      "Epoch 33, CIFAR-10 Batch 4:  Loss:     0.7971 Validation Accuracy: 0.775000\n",
      "Epoch 33, CIFAR-10 Batch 5:  Loss:     0.8246 Validation Accuracy: 0.675000\n",
      "Epoch 34, CIFAR-10 Batch 1:  Loss:     0.7334 Validation Accuracy: 0.750000\n",
      "Epoch 34, CIFAR-10 Batch 2:  Loss:     0.8138 Validation Accuracy: 0.750000\n",
      "Epoch 34, CIFAR-10 Batch 3:  Loss:     0.6019 Validation Accuracy: 0.875000\n",
      "Epoch 34, CIFAR-10 Batch 4:  Loss:     0.7982 Validation Accuracy: 0.775000\n",
      "Epoch 34, CIFAR-10 Batch 5:  Loss:     0.7912 Validation Accuracy: 0.700000\n",
      "Epoch 35, CIFAR-10 Batch 1:  Loss:     0.7815 Validation Accuracy: 0.750000\n",
      "Epoch 35, CIFAR-10 Batch 2:  Loss:     0.8222 Validation Accuracy: 0.700000\n",
      "Epoch 35, CIFAR-10 Batch 3:  Loss:     0.6214 Validation Accuracy: 0.825000\n",
      "Epoch 35, CIFAR-10 Batch 4:  Loss:     0.7796 Validation Accuracy: 0.775000\n",
      "Epoch 35, CIFAR-10 Batch 5:  Loss:     0.7898 Validation Accuracy: 0.750000\n",
      "Epoch 36, CIFAR-10 Batch 1:  Loss:     0.7610 Validation Accuracy: 0.725000\n",
      "Epoch 36, CIFAR-10 Batch 2:  Loss:     0.8997 Validation Accuracy: 0.725000\n",
      "Epoch 36, CIFAR-10 Batch 3:  Loss:     0.6023 Validation Accuracy: 0.850000\n",
      "Epoch 36, CIFAR-10 Batch 4:  Loss:     0.7627 Validation Accuracy: 0.775000\n",
      "Epoch 36, CIFAR-10 Batch 5:  Loss:     0.7855 Validation Accuracy: 0.700000\n",
      "Epoch 37, CIFAR-10 Batch 1:  Loss:     0.6735 Validation Accuracy: 0.775000\n",
      "Epoch 37, CIFAR-10 Batch 2:  Loss:     0.8159 Validation Accuracy: 0.725000\n",
      "Epoch 37, CIFAR-10 Batch 3:  Loss:     0.6072 Validation Accuracy: 0.875000\n",
      "Epoch 37, CIFAR-10 Batch 4:  Loss:     0.7832 Validation Accuracy: 0.775000\n",
      "Epoch 37, CIFAR-10 Batch 5:  Loss:     0.7939 Validation Accuracy: 0.650000\n",
      "Epoch 38, CIFAR-10 Batch 1:  Loss:     0.6979 Validation Accuracy: 0.775000\n",
      "Epoch 38, CIFAR-10 Batch 2:  Loss:     0.7952 Validation Accuracy: 0.725000\n",
      "Epoch 38, CIFAR-10 Batch 3:  Loss:     0.5750 Validation Accuracy: 0.825000\n",
      "Epoch 38, CIFAR-10 Batch 4:  Loss:     0.7765 Validation Accuracy: 0.775000\n",
      "Epoch 38, CIFAR-10 Batch 5:  Loss:     0.7632 Validation Accuracy: 0.700000\n",
      "Epoch 39, CIFAR-10 Batch 1:  Loss:     0.6649 Validation Accuracy: 0.775000\n",
      "Epoch 39, CIFAR-10 Batch 2:  Loss:     0.7977 Validation Accuracy: 0.725000\n",
      "Epoch 39, CIFAR-10 Batch 3:  Loss:     0.5935 Validation Accuracy: 0.850000\n",
      "Epoch 39, CIFAR-10 Batch 4:  Loss:     0.7790 Validation Accuracy: 0.800000\n",
      "Epoch 39, CIFAR-10 Batch 5:  Loss:     0.7480 Validation Accuracy: 0.725000\n",
      "Epoch 40, CIFAR-10 Batch 1:  Loss:     0.6865 Validation Accuracy: 0.800000\n",
      "Epoch 40, CIFAR-10 Batch 2:  Loss:     0.7963 Validation Accuracy: 0.750000\n",
      "Epoch 40, CIFAR-10 Batch 3:  Loss:     0.5757 Validation Accuracy: 0.825000\n",
      "Epoch 40, CIFAR-10 Batch 4:  Loss:     0.7390 Validation Accuracy: 0.800000\n",
      "Epoch 40, CIFAR-10 Batch 5:  Loss:     0.7518 Validation Accuracy: 0.725000\n",
      "Epoch 41, CIFAR-10 Batch 1:  Loss:     0.6712 Validation Accuracy: 0.775000\n",
      "Epoch 41, CIFAR-10 Batch 2:  Loss:     0.8081 Validation Accuracy: 0.750000\n",
      "Epoch 41, CIFAR-10 Batch 3:  Loss:     0.6218 Validation Accuracy: 0.775000\n",
      "Epoch 41, CIFAR-10 Batch 4:  Loss:     0.7358 Validation Accuracy: 0.800000\n",
      "Epoch 41, CIFAR-10 Batch 5:  Loss:     0.7701 Validation Accuracy: 0.675000\n",
      "Epoch 42, CIFAR-10 Batch 1:  Loss:     0.6757 Validation Accuracy: 0.800000\n",
      "Epoch 42, CIFAR-10 Batch 2:  Loss:     0.7875 Validation Accuracy: 0.750000\n",
      "Epoch 42, CIFAR-10 Batch 3:  Loss:     0.5840 Validation Accuracy: 0.875000\n",
      "Epoch 42, CIFAR-10 Batch 4:  Loss:     0.7514 Validation Accuracy: 0.800000\n",
      "Epoch 42, CIFAR-10 Batch 5:  Loss:     0.7539 Validation Accuracy: 0.650000\n",
      "Epoch 43, CIFAR-10 Batch 1:  Loss:     0.6611 Validation Accuracy: 0.850000\n",
      "Epoch 43, CIFAR-10 Batch 2:  Loss:     0.7971 Validation Accuracy: 0.775000\n",
      "Epoch 43, CIFAR-10 Batch 3:  Loss:     0.5640 Validation Accuracy: 0.875000\n",
      "Epoch 43, CIFAR-10 Batch 4:  Loss:     0.7400 Validation Accuracy: 0.775000\n",
      "Epoch 43, CIFAR-10 Batch 5:  Loss:     0.7354 Validation Accuracy: 0.775000\n",
      "Epoch 44, CIFAR-10 Batch 1:  Loss:     0.6815 Validation Accuracy: 0.725000\n"
     ]
    },
    {
     "name": "stdout",
     "output_type": "stream",
     "text": [
      "Epoch 44, CIFAR-10 Batch 2:  Loss:     0.8195 Validation Accuracy: 0.700000\n",
      "Epoch 44, CIFAR-10 Batch 3:  Loss:     0.5602 Validation Accuracy: 0.825000\n",
      "Epoch 44, CIFAR-10 Batch 4:  Loss:     0.7409 Validation Accuracy: 0.775000\n",
      "Epoch 44, CIFAR-10 Batch 5:  Loss:     0.7394 Validation Accuracy: 0.750000\n",
      "Epoch 45, CIFAR-10 Batch 1:  Loss:     0.6530 Validation Accuracy: 0.775000\n",
      "Epoch 45, CIFAR-10 Batch 2:  Loss:     0.8191 Validation Accuracy: 0.750000\n",
      "Epoch 45, CIFAR-10 Batch 3:  Loss:     0.5332 Validation Accuracy: 0.850000\n",
      "Epoch 45, CIFAR-10 Batch 4:  Loss:     0.7049 Validation Accuracy: 0.775000\n",
      "Epoch 45, CIFAR-10 Batch 5:  Loss:     0.7619 Validation Accuracy: 0.675000\n",
      "Epoch 46, CIFAR-10 Batch 1:  Loss:     0.6879 Validation Accuracy: 0.725000\n",
      "Epoch 46, CIFAR-10 Batch 2:  Loss:     0.7901 Validation Accuracy: 0.750000\n",
      "Epoch 46, CIFAR-10 Batch 3:  Loss:     0.5515 Validation Accuracy: 0.825000\n",
      "Epoch 46, CIFAR-10 Batch 4:  Loss:     0.7421 Validation Accuracy: 0.800000\n",
      "Epoch 46, CIFAR-10 Batch 5:  Loss:     0.7045 Validation Accuracy: 0.800000\n",
      "Epoch 47, CIFAR-10 Batch 1:  Loss:     0.6109 Validation Accuracy: 0.800000\n",
      "Epoch 47, CIFAR-10 Batch 2:  Loss:     0.8338 Validation Accuracy: 0.750000\n",
      "Epoch 47, CIFAR-10 Batch 3:  Loss:     0.5474 Validation Accuracy: 0.900000\n",
      "Epoch 47, CIFAR-10 Batch 4:  Loss:     0.7192 Validation Accuracy: 0.750000\n",
      "Epoch 47, CIFAR-10 Batch 5:  Loss:     0.7126 Validation Accuracy: 0.775000\n",
      "Epoch 48, CIFAR-10 Batch 1:  Loss:     0.6734 Validation Accuracy: 0.750000\n",
      "Epoch 48, CIFAR-10 Batch 2:  Loss:     0.7969 Validation Accuracy: 0.725000\n",
      "Epoch 48, CIFAR-10 Batch 3:  Loss:     0.5419 Validation Accuracy: 0.850000\n",
      "Epoch 48, CIFAR-10 Batch 4:  Loss:     0.7510 Validation Accuracy: 0.800000\n",
      "Epoch 48, CIFAR-10 Batch 5:  Loss:     0.7460 Validation Accuracy: 0.700000\n",
      "Epoch 49, CIFAR-10 Batch 1:  Loss:     0.6430 Validation Accuracy: 0.825000\n",
      "Epoch 49, CIFAR-10 Batch 2:  Loss:     0.7907 Validation Accuracy: 0.750000\n",
      "Epoch 49, CIFAR-10 Batch 3:  Loss:     0.5395 Validation Accuracy: 0.875000\n",
      "Epoch 49, CIFAR-10 Batch 4:  Loss:     0.7117 Validation Accuracy: 0.850000\n",
      "Epoch 49, CIFAR-10 Batch 5:  Loss:     0.7429 Validation Accuracy: 0.675000\n",
      "Epoch 50, CIFAR-10 Batch 1:  Loss:     0.6542 Validation Accuracy: 0.725000\n",
      "Epoch 50, CIFAR-10 Batch 2:  Loss:     0.7523 Validation Accuracy: 0.725000\n",
      "Epoch 50, CIFAR-10 Batch 3:  Loss:     0.5446 Validation Accuracy: 0.825000\n",
      "Epoch 50, CIFAR-10 Batch 4:  Loss:     0.7029 Validation Accuracy: 0.825000\n",
      "Epoch 50, CIFAR-10 Batch 5:  Loss:     0.7142 Validation Accuracy: 0.775000\n"
     ]
    }
   ],
   "source": [
    "\"\"\"\n",
    "DON'T MODIFY ANYTHING IN THIS CELL\n",
    "\"\"\"\n",
    "save_model_path = './image_classification'\n",
    "\n",
    "print('Training...')\n",
    "with tf.Session() as sess:\n",
    "    # Initializing the variables\n",
    "    sess.run(tf.global_variables_initializer())\n",
    "    \n",
    "    # Training cycle\n",
    "    for epoch in range(epochs):\n",
    "        # Loop over all batches\n",
    "        n_batches = 5\n",
    "        for batch_i in range(1, n_batches + 1):\n",
    "            for batch_features, batch_labels in helper.load_preprocess_training_batch(batch_i, batch_size):\n",
    "                train_neural_network(sess, optimizer, keep_probability, batch_features, batch_labels)\n",
    "            print('Epoch {:>2}, CIFAR-10 Batch {}:  '.format(epoch + 1, batch_i), end='')\n",
    "            print_stats(sess, batch_features, batch_labels, cost, accuracy)\n",
    "            \n",
    "    # Save Model\n",
    "    saver = tf.train.Saver()\n",
    "    save_path = saver.save(sess, save_model_path)"
   ]
  },
  {
   "cell_type": "markdown",
   "metadata": {},
   "source": [
    "# Checkpoint\n",
    "The model has been saved to disk.\n",
    "## Test Model\n",
    "Test your model against the test dataset.  This will be your final accuracy. You should have an accuracy greater than 50%. If you don't, keep tweaking the model architecture and parameters."
   ]
  },
  {
   "cell_type": "code",
   "execution_count": 84,
   "metadata": {},
   "outputs": [
    {
     "name": "stdout",
     "output_type": "stream",
     "text": [
      "INFO:tensorflow:Restoring parameters from ./image_classification\n",
      "Testing Accuracy: 0.6359375\n",
      "\n"
     ]
    },
    {
     "data": {
      "image/png": "[encoded data removed]",
      "text/plain": [
       "<matplotlib.figure.Figure at 0x27553992eb8>"
      ]
     },
     "metadata": {
      "image/png": {
       "height": 319,
       "width": 355
      }
     },
     "output_type": "display_data"
    }
   ],
   "source": [
    "\"\"\"\n",
    "DON'T MODIFY ANYTHING IN THIS CELL\n",
    "\"\"\"\n",
    "%matplotlib inline\n",
    "%config InlineBackend.figure_format = 'retina'\n",
    "\n",
    "import tensorflow as tf\n",
    "import pickle\n",
    "import helper\n",
    "import random\n",
    "\n",
    "# Set batch size if not already set\n",
    "try:\n",
    "    if batch_size:\n",
    "        pass\n",
    "except NameError:\n",
    "    batch_size = 64\n",
    "\n",
    "save_model_path = './image_classification'\n",
    "n_samples = 4\n",
    "top_n_predictions = 3\n",
    "\n",
    "def test_model():\n",
    "    \"\"\"\n",
    "    Test the saved model against the test dataset\n",
    "    \"\"\"\n",
    "\n",
    "    test_features, test_labels = pickle.load(open('preprocess_test.p', mode='rb'))\n",
    "    loaded_graph = tf.Graph()\n",
    "\n",
    "    with tf.Session(graph=loaded_graph) as sess:\n",
    "        # Load model\n",
    "        loader = tf.train.import_meta_graph(save_model_path + '.meta')\n",
    "        loader.restore(sess, save_model_path)\n",
    "\n",
    "        # Get Tensors from loaded model\n",
    "        loaded_x = loaded_graph.get_tensor_by_name('x:0')\n",
    "        loaded_y = loaded_graph.get_tensor_by_name('y:0')\n",
    "        loaded_keep_prob = loaded_graph.get_tensor_by_name('keep_prob:0')\n",
    "        loaded_logits = loaded_graph.get_tensor_by_name('logits:0')\n",
    "        loaded_acc = loaded_graph.get_tensor_by_name('accuracy:0')\n",
    "        \n",
    "        # Get accuracy in batches for memory limitations\n",
    "        test_batch_acc_total = 0\n",
    "        test_batch_count = 0\n",
    "        \n",
    "        for test_feature_batch, test_label_batch in helper.batch_features_labels(test_features, test_labels, batch_size):\n",
    "            test_batch_acc_total += sess.run(\n",
    "                loaded_acc,\n",
    "                feed_dict={loaded_x: test_feature_batch, loaded_y: test_label_batch, loaded_keep_prob: 1.0})\n",
    "            test_batch_count += 1\n",
    "\n",
    "        print('Testing Accuracy: {}\\n'.format(test_batch_acc_total/test_batch_count))\n",
    "\n",
    "        # Print Random Samples\n",
    "        random_test_features, random_test_labels = tuple(zip(*random.sample(list(zip(test_features, test_labels)), n_samples)))\n",
    "        random_test_predictions = sess.run(\n",
    "            tf.nn.top_k(tf.nn.softmax(loaded_logits), top_n_predictions),\n",
    "            feed_dict={loaded_x: random_test_features, loaded_y: random_test_labels, loaded_keep_prob: 1.0})\n",
    "        helper.display_image_predictions(random_test_features, random_test_labels, random_test_predictions)\n",
    "\n",
    "\n",
    "test_model()"
   ]
  },
  {
   "cell_type": "markdown",
   "metadata": {},
   "source": [
    "## Why 50-80% Accuracy?\n",
    "You might be wondering why you can't get an accuracy any higher. First things first, 50% isn't bad for a simple CNN.  Pure guessing would get you 10% accuracy. However, you might notice people are getting scores [well above 80%](http://rodrigob.github.io/are_we_there_yet/build/classification_datasets_results.html#43494641522d3130).  That's because we haven't taught you all there is to know about neural networks. We still need to cover a few more techniques.\n",
    "## Submitting This Project\n",
    "When submitting this project, make sure to run all the cells before saving the notebook.  Save the notebook file as \"dlnd_image_classification.ipynb\" and save it as a HTML file under \"File\" -> \"Download as\".  Include the \"helper.py\" and \"problem_unittests.py\" files in your submission."
   ]
  }
 ],
 "metadata": {
  "kernelspec": {
   "display_name": "Python 3",
   "language": "python",
   "name": "python3"
  },
  "language_info": {
   "codemirror_mode": {
    "name": "ipython",
    "version": 3
   },
   "file_extension": ".py",
   "mimetype": "text/x-python",
   "name": "python",
   "nbconvert_exporter": "python",
   "pygments_lexer": "ipython3",
   "version": "3.6.1"
  }
 },
 "nbformat": 4,
 "nbformat_minor": 1
}
